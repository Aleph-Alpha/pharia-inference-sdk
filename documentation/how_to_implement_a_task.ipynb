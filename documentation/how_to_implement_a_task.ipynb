{
 "cells": [
  {
   "cell_type": "code",
   "execution_count": 1,
   "metadata": {},
   "outputs": [
    {
     "data": {
      "text/plain": [
       "True"
      ]
     },
     "execution_count": 1,
     "metadata": {},
     "output_type": "execute_result"
    }
   ],
   "source": [
    "from dotenv import load_dotenv\n",
    "from pydantic import BaseModel\n",
    "\n",
    "from pharia_inference_sdk.core import (\n",
    "    CompleteInput,\n",
    "    ControlModel,\n",
    "    NoOpTracer,\n",
    "    Pharia1ChatModel,\n",
    "    Task,\n",
    "    TaskSpan,\n",
    ")\n",
    "\n",
    "load_dotenv()"
   ]
  },
  {
   "cell_type": "markdown",
   "metadata": {},
   "source": [
    "# How to implement a task using an Aleph Alpha model\n",
    "0. Define the task (see [here](./how_to_define_a_task.ipynb))\n",
    "1. Decide which model best suits your use case (for a list of Aleph Alpha control models see [here](https://aleph-alpha-intelligence-layer.readthedocs-hosted.com/en/latest/intelligence_layer.core.html#intelligence_layer.core.LuminousControlModel))\n",
    "2. Create a `Task` subclass\n",
    "   1. Pass the Model to the constructor \n",
    "   2. Implement your domain logic in `do_run()`\n",
    "      1. Generate a `Prompt`. Examples for generating prompts are `ControlModel.to_instruct_prompt()`, `PromptTemplate.to_rich_prompt()` or `Prompt.from_text()`\n",
    "         - We recommend to not write custom `PromptTemplate`s. If necessary, look up the documentation of `PromptTemplate`\n",
    "      2. Run the model with the prompt\n",
    "      3. Map the prompt output to the task output class\n",
    "3. Run and test it"
   ]
  },
  {
   "cell_type": "markdown",
   "metadata": {},
   "source": [
    "### Example"
   ]
  },
  {
   "cell_type": "code",
   "execution_count": 2,
   "metadata": {},
   "outputs": [
    {
     "data": {
      "text/plain": [
       "TellAJokeTaskOutput(joke=' \\n\\n Why did the software engineer decide to become a farmer? Because in the software world, they were constantly debugging their code and trying to grow their user base!')"
      ]
     },
     "execution_count": 2,
     "metadata": {},
     "output_type": "execute_result"
    }
   ],
   "source": [
    "# Step 0 - Define the input and output types for your task\n",
    "\n",
    "\n",
    "class TellAJokeTaskInput(BaseModel):\n",
    "    topic: str\n",
    "\n",
    "\n",
    "class TellAJokeTaskOutput(BaseModel):\n",
    "    joke: str\n",
    "\n",
    "\n",
    "# Step 1 - we want a control model but do not care otherwise. Therefore we use the default. For our case, the Chat models also work.\n",
    "model_to_use = Pharia1ChatModel()\n",
    "\n",
    "\n",
    "# Step 2\n",
    "class TellAJokeTask(Task[TellAJokeTaskInput, TellAJokeTaskOutput]):\n",
    "    PROMPT_TEMPLATE: str = \"\"\"Tell me a joke about the following topic:\"\"\"\n",
    "\n",
    "    # Step 2.1\n",
    "    def __init__(self, model: ControlModel | None = None) -> None:\n",
    "        self._model = model if model else Pharia1ChatModel()\n",
    "\n",
    "    # Step 2.2\n",
    "    def do_run(\n",
    "        self, input: TellAJokeTaskInput, task_span: TaskSpan\n",
    "    ) -> TellAJokeTaskOutput:\n",
    "        # Step 2.2.1\n",
    "        prompt = self._model.to_instruct_prompt(self.PROMPT_TEMPLATE, input.topic)\n",
    "        completion_input = CompleteInput(prompt=prompt)\n",
    "        # Step 2.2.2\n",
    "        completion = self._model.complete(completion_input, task_span)\n",
    "        return TellAJokeTaskOutput(joke=completion.completions[0].completion)\n",
    "\n",
    "\n",
    "TellAJokeTask(model=model_to_use).run(\n",
    "    TellAJokeTaskInput(topic=\"Software Engineers\"), NoOpTracer()\n",
    ")"
   ]
  }
 ],
 "metadata": {
  "kernelspec": {
   "display_name": ".venv",
   "language": "python",
   "name": "python3"
  },
  "language_info": {
   "codemirror_mode": {
    "name": "ipython",
    "version": 3
   },
   "file_extension": ".py",
   "mimetype": "text/x-python",
   "name": "python",
   "nbconvert_exporter": "python",
   "pygments_lexer": "ipython3",
   "version": "3.12.2"
  }
 },
 "nbformat": 4,
 "nbformat_minor": 2
}
